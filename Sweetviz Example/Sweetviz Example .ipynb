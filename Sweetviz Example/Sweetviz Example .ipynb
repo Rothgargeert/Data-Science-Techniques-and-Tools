{
 "cells": [
  {
   "cell_type": "code",
   "execution_count": 1,
   "metadata": {
    "scrolled": false
   },
   "outputs": [
    {
     "name": "stdout",
     "output_type": "stream",
     "text": [
      "Collecting sweetviz\n",
      "  Downloading https://files.pythonhosted.org/packages/87/8a/a4025101bfc8141e3d9f2fd68b3861183dd165ee632af6bf4d9308c89229/sweetviz-1.0b6-py3-none-any.whl (325kB)\n",
      "Requirement already satisfied: scipy>=1.3.2 in c:\\users\\rothg\\anaconda3\\lib\\site-packages (from sweetviz) (1.4.1)\n",
      "Requirement already satisfied: numpy>=1.16.0 in c:\\users\\rothg\\appdata\\roaming\\python\\python37\\site-packages (from sweetviz) (1.18.3)\n",
      "Collecting pandas!=1.0.0,!=1.0.1,!=1.0.2,>=0.25.3 (from sweetviz)\n",
      "  Downloading https://files.pythonhosted.org/packages/c5/16/07da3435a161ae411eef63d6c5edcf9fd11a8a11e94f60d259693b7e0804/pandas-1.1.2-cp37-cp37m-win_amd64.whl (9.4MB)\n",
      "Collecting jinja2>=2.11.1 (from sweetviz)\n",
      "  Using cached https://files.pythonhosted.org/packages/30/9e/f663a2aa66a09d838042ae1a2c5659828bb9b41ea3a6efa20a20fd92b121/Jinja2-2.11.2-py2.py3-none-any.whl\n",
      "Requirement already satisfied: tqdm>=4.43.0 in c:\\users\\rothg\\anaconda3\\lib\\site-packages (from sweetviz) (4.48.2)\n",
      "Collecting importlib-resources>=1.2.0 (from sweetviz)\n",
      "  Downloading https://files.pythonhosted.org/packages/ba/03/0f9595c0c2ef12590877f3c47e5f579759ce5caf817f8256d5dcbd8a1177/importlib_resources-3.0.0-py2.py3-none-any.whl\n",
      "Collecting matplotlib>=3.1.3 (from sweetviz)\n",
      "  Downloading https://files.pythonhosted.org/packages/81/51/dadfa4433ec13d9966393b1726a5c22d7773433aa7797b48980965f32e07/matplotlib-3.3.2-cp37-cp37m-win_amd64.whl (8.5MB)\n",
      "Requirement already satisfied: pytz>=2017.2 in c:\\users\\rothg\\anaconda3\\lib\\site-packages (from pandas!=1.0.0,!=1.0.1,!=1.0.2,>=0.25.3->sweetviz) (2019.3)\n",
      "Requirement already satisfied: python-dateutil>=2.7.3 in c:\\users\\rothg\\anaconda3\\lib\\site-packages (from pandas!=1.0.0,!=1.0.1,!=1.0.2,>=0.25.3->sweetviz) (2.8.0)\n",
      "Requirement already satisfied: MarkupSafe>=0.23 in c:\\users\\rothg\\anaconda3\\lib\\site-packages (from jinja2>=2.11.1->sweetviz) (1.1.1)\n",
      "Requirement already satisfied: zipp>=0.4; python_version < \"3.8\" in c:\\users\\rothg\\anaconda3\\lib\\site-packages (from importlib-resources>=1.2.0->sweetviz) (0.6.0)\n",
      "Requirement already satisfied: pyparsing!=2.0.4,!=2.1.2,!=2.1.6,>=2.0.3 in c:\\users\\rothg\\anaconda3\\lib\\site-packages (from matplotlib>=3.1.3->sweetviz) (2.4.2)\n",
      "Collecting certifi>=2020.06.20 (from matplotlib>=3.1.3->sweetviz)\n",
      "  Downloading https://files.pythonhosted.org/packages/5e/c4/6c4fe722df5343c33226f0b4e0bb042e4dc13483228b4718baf286f86d87/certifi-2020.6.20-py2.py3-none-any.whl (156kB)\n",
      "Requirement already satisfied: kiwisolver>=1.0.1 in c:\\users\\rothg\\anaconda3\\lib\\site-packages (from matplotlib>=3.1.3->sweetviz) (1.1.0)\n",
      "Requirement already satisfied: cycler>=0.10 in c:\\users\\rothg\\anaconda3\\lib\\site-packages (from matplotlib>=3.1.3->sweetviz) (0.10.0)\n",
      "Requirement already satisfied: pillow>=6.2.0 in c:\\users\\rothg\\anaconda3\\lib\\site-packages (from matplotlib>=3.1.3->sweetviz) (6.2.0)\n",
      "Requirement already satisfied: six>=1.5 in c:\\users\\rothg\\anaconda3\\lib\\site-packages (from python-dateutil>=2.7.3->pandas!=1.0.0,!=1.0.1,!=1.0.2,>=0.25.3->sweetviz) (1.12.0)\n",
      "Requirement already satisfied: more-itertools in c:\\users\\rothg\\anaconda3\\lib\\site-packages (from zipp>=0.4; python_version < \"3.8\"->importlib-resources>=1.2.0->sweetviz) (7.2.0)\n",
      "Requirement already satisfied: setuptools in c:\\users\\rothg\\anaconda3\\lib\\site-packages (from kiwisolver>=1.0.1->matplotlib>=3.1.3->sweetviz) (41.4.0)\n",
      "Installing collected packages: pandas, jinja2, importlib-resources, certifi, matplotlib, sweetviz\n",
      "  Found existing installation: pandas 0.25.1\n",
      "    Uninstalling pandas-0.25.1:\n",
      "      Successfully uninstalled pandas-0.25.1\n",
      "  Found existing installation: Jinja2 2.10.3\n",
      "    Uninstalling Jinja2-2.10.3:\n",
      "      Successfully uninstalled Jinja2-2.10.3\n",
      "  Found existing installation: certifi 2019.9.11\n",
      "    Uninstalling certifi-2019.9.11:\n",
      "      Successfully uninstalled certifi-2019.9.11\n",
      "  Found existing installation: matplotlib 3.1.1\n",
      "    Uninstalling matplotlib-3.1.1:\n",
      "      Successfully uninstalled matplotlib-3.1.1\n",
      "Successfully installed certifi-2020.6.20 importlib-resources-3.0.0 jinja2-2.11.2 matplotlib-3.3.2 pandas-1.1.2 sweetviz-1.0b6\n",
      "Note: you may need to restart the kernel to use updated packages.\n"
     ]
    }
   ],
   "source": [
    "pip install sweetviz"
   ]
  },
  {
   "cell_type": "code",
   "execution_count": 2,
   "metadata": {},
   "outputs": [],
   "source": [
    "import pandas as  pd\n",
    "df = pd.read_csv('Advertising.csv')#Dataset available in Himanshu Sharma's Github repo"
   ]
  },
  {
   "cell_type": "code",
   "execution_count": 3,
   "metadata": {},
   "outputs": [
    {
     "name": "stdout",
     "output_type": "stream",
     "text": [
      "        TV  Radio  Newspaper  Sales\n",
      "0    230.1   37.8       69.2   22.1\n",
      "1     44.5   39.3       45.1   10.4\n",
      "2     17.2   45.9       69.3    9.3\n",
      "3    151.5   41.3       58.5   18.5\n",
      "4    180.8   10.8       58.4   12.9\n",
      "..     ...    ...        ...    ...\n",
      "195   38.2    3.7       13.8    7.6\n",
      "196   94.2    4.9        8.1    9.7\n",
      "197  177.0    9.3        6.4   12.8\n",
      "198  283.6   42.0       66.2   25.5\n",
      "199  232.1    8.6        8.7   13.4\n",
      "\n",
      "[200 rows x 4 columns]\n"
     ]
    }
   ],
   "source": [
    "print(df)"
   ]
  },
  {
   "cell_type": "code",
   "execution_count": 4,
   "metadata": {},
   "outputs": [
    {
     "name": "stderr",
     "output_type": "stream",
     "text": [
      ":FEATURES DONE:                    |█████████████████████| [100%]   00:01  -> (00:00 left)\n",
      ":PAIRWISE DONE:                    |█████████████████████| [100%]   00:00  -> (00:00 left)\n"
     ]
    },
    {
     "name": "stdout",
     "output_type": "stream",
     "text": [
      "Creating Associations graph... DONE!\n",
      "Report Advertising.html was generated! NOTEBOOK/COLAB USERS: no browser will pop up, the report is saved in your notebook/colab files.\n"
     ]
    }
   ],
   "source": [
    "# importing sweetviz\n",
    "import sweetviz as sv#analyzing the dataset\n",
    "advert_report = sv.analyze(df)#display the report\n",
    "advert_report.show_html('Advertising.html')"
   ]
  },
  {
   "cell_type": "code",
   "execution_count": 5,
   "metadata": {},
   "outputs": [
    {
     "name": "stderr",
     "output_type": "stream",
     "text": [
      ":FEATURES DONE:                    |█████████████████████| [100%]   00:01  -> (00:00 left)\n",
      ":PAIRWISE DONE:                    |█████████████████████| [100%]   00:00  -> (00:00 left)\n"
     ]
    },
    {
     "name": "stdout",
     "output_type": "stream",
     "text": [
      "Creating Associations graph... DONE!\n",
      "Report Compare.html was generated! NOTEBOOK/COLAB USERS: no browser will pop up, the report is saved in your notebook/colab files.\n"
     ]
    }
   ],
   "source": [
    "#visualize the comparison of test and train data. For comparison \n",
    "#let us divide this data into 2 parts, first 100 rows for train \n",
    "#dataset and rest 100 rows for the test dataset\n",
    "df1 = sv.compare(df[100:], df[:100])\n",
    "df1.show_html('Compare.html')"
   ]
  },
  {
   "cell_type": "code",
   "execution_count": 6,
   "metadata": {},
   "outputs": [],
   "source": [
    "#More info on sweetviz: https://pypi.org/project/sweetviz/"
   ]
  },
  {
   "cell_type": "code",
   "execution_count": null,
   "metadata": {},
   "outputs": [],
   "source": []
  }
 ],
 "metadata": {
  "kernelspec": {
   "display_name": "Python 3",
   "language": "python",
   "name": "python3"
  },
  "language_info": {
   "codemirror_mode": {
    "name": "ipython",
    "version": 3
   },
   "file_extension": ".py",
   "mimetype": "text/x-python",
   "name": "python",
   "nbconvert_exporter": "python",
   "pygments_lexer": "ipython3",
   "version": "3.7.4"
  }
 },
 "nbformat": 4,
 "nbformat_minor": 2
}
