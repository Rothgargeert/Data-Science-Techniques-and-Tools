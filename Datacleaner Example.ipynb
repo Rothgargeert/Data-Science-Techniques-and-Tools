{
 "cells": [
  {
   "cell_type": "code",
   "execution_count": 1,
   "metadata": {},
   "outputs": [
    {
     "name": "stdout",
     "output_type": "stream",
     "text": [
      "Collecting datacleaner\n",
      "  Downloading https://files.pythonhosted.org/packages/8c/88/e4150ed4f6503927b72cf41306afeabad690d4b235a94a97cb18f9482b9d/datacleaner-0.1.5.tar.gz\n",
      "Requirement already satisfied: pandas in c:\\users\\rothg\\anaconda3\\lib\\site-packages (from datacleaner) (0.25.1)\n",
      "Requirement already satisfied: scikit-learn in c:\\users\\rothg\\anaconda3\\lib\\site-packages (from datacleaner) (0.22.1)\n",
      "Collecting update_checker (from datacleaner)\n",
      "  Downloading https://files.pythonhosted.org/packages/0c/ba/8dd7fa5f0b1c6a8ac62f8f57f7e794160c1f86f31c6d0fb00f582372a3e4/update_checker-0.18.0-py3-none-any.whl\n",
      "Requirement already satisfied: numpy>=1.13.3 in c:\\users\\rothg\\appdata\\roaming\\python\\python37\\site-packages (from pandas->datacleaner) (1.18.3)\n",
      "Requirement already satisfied: python-dateutil>=2.6.1 in c:\\users\\rothg\\anaconda3\\lib\\site-packages (from pandas->datacleaner) (2.8.0)\n",
      "Requirement already satisfied: pytz>=2017.2 in c:\\users\\rothg\\anaconda3\\lib\\site-packages (from pandas->datacleaner) (2019.3)\n",
      "Requirement already satisfied: joblib>=0.11 in c:\\users\\rothg\\anaconda3\\lib\\site-packages (from scikit-learn->datacleaner) (0.13.2)\n",
      "Requirement already satisfied: scipy>=0.17.0 in c:\\users\\rothg\\anaconda3\\lib\\site-packages (from scikit-learn->datacleaner) (1.4.1)\n",
      "Requirement already satisfied: requests>=2.3.0 in c:\\users\\rothg\\anaconda3\\lib\\site-packages (from update_checker->datacleaner) (2.22.0)\n",
      "Requirement already satisfied: six>=1.5 in c:\\users\\rothg\\anaconda3\\lib\\site-packages (from python-dateutil>=2.6.1->pandas->datacleaner) (1.12.0)\n",
      "Requirement already satisfied: certifi>=2017.4.17 in c:\\users\\rothg\\anaconda3\\lib\\site-packages (from requests>=2.3.0->update_checker->datacleaner) (2019.9.11)\n",
      "Requirement already satisfied: idna<2.9,>=2.5 in c:\\users\\rothg\\anaconda3\\lib\\site-packages (from requests>=2.3.0->update_checker->datacleaner) (2.8)\n",
      "Requirement already satisfied: chardet<3.1.0,>=3.0.2 in c:\\users\\rothg\\anaconda3\\lib\\site-packages (from requests>=2.3.0->update_checker->datacleaner) (3.0.4)\n",
      "Requirement already satisfied: urllib3!=1.25.0,!=1.25.1,<1.26,>=1.21.1 in c:\\users\\rothg\\anaconda3\\lib\\site-packages (from requests>=2.3.0->update_checker->datacleaner) (1.24.2)\n",
      "Building wheels for collected packages: datacleaner\n",
      "  Building wheel for datacleaner (setup.py): started\n",
      "  Building wheel for datacleaner (setup.py): finished with status 'done'\n",
      "  Created wheel for datacleaner: filename=datacleaner-0.1.5-cp37-none-any.whl size=7415 sha256=9ffbc456f6573d03265ff7d2b0b3538eb01115d06dc58ad0c6e7059911fee6a1\n",
      "  Stored in directory: C:\\Users\\rothg\\AppData\\Local\\pip\\Cache\\wheels\\47\\e3\\74\\4e055e42b3d4a5deab827f4d950e8e71d506c6e79231ad4576\n",
      "Successfully built datacleaner\n",
      "Installing collected packages: update-checker, datacleaner\n",
      "Successfully installed datacleaner-0.1.5 update-checker-0.18.0\n",
      "Note: you may need to restart the kernel to use updated packages.\n"
     ]
    }
   ],
   "source": [
    "pip install datacleaner #install datacleaner"
   ]
  },
  {
   "cell_type": "code",
   "execution_count": 2,
   "metadata": {},
   "outputs": [],
   "source": [
    "from datacleaner import autoclean #import autoclearn and pandas\n",
    "\n",
    "import pandas as pd"
   ]
  },
  {
   "cell_type": "code",
   "execution_count": 3,
   "metadata": {},
   "outputs": [
    {
     "data": {
      "text/plain": [
       "(205, 26)"
      ]
     },
     "execution_count": 3,
     "metadata": {},
     "output_type": "execute_result"
    }
   ],
   "source": [
    "df = pd.read_csv('automobile_data.csv') #automobile data available in Kaggle\n",
    "\n",
    "df.shape  # Shape of the dataset     "
   ]
  },
  {
   "cell_type": "code",
   "execution_count": 4,
   "metadata": {},
   "outputs": [
    {
     "data": {
      "text/plain": [
       "symboling            0\n",
       "normalized-losses    0\n",
       "make                 0\n",
       "fuel-type            0\n",
       "aspiration           0\n",
       "num-of-doors         0\n",
       "body-style           0\n",
       "drive-wheels         0\n",
       "engine-location      0\n",
       "wheel-base           0\n",
       "length               0\n",
       "width                0\n",
       "height               0\n",
       "curb-weight          0\n",
       "engine-type          0\n",
       "num-of-cylinders     0\n",
       "engine-size          0\n",
       "fuel-system          0\n",
       "bore                 0\n",
       "stroke               0\n",
       "compression-ratio    0\n",
       "horsepower           0\n",
       "peak-rpm             0\n",
       "city-mpg             0\n",
       "highway-mpg          0\n",
       "price                0\n",
       "dtype: int64"
      ]
     },
     "execution_count": 4,
     "metadata": {},
     "output_type": "execute_result"
    }
   ],
   "source": [
    "df.isnull().sum()  #Checking Null Values; mostly null values below"
   ]
  },
  {
   "cell_type": "code",
   "execution_count": 5,
   "metadata": {},
   "outputs": [
    {
     "name": "stdout",
     "output_type": "stream",
     "text": [
      "     symboling normalized-losses         make fuel-type aspiration  \\\n",
      "0            3                 ?  alfa-romero       gas        std   \n",
      "1            3                 ?  alfa-romero       gas        std   \n",
      "2            1                 ?  alfa-romero       gas        std   \n",
      "3            2               164         audi       gas        std   \n",
      "4            2               164         audi       gas        std   \n",
      "..         ...               ...          ...       ...        ...   \n",
      "200         -1                95        volvo       gas        std   \n",
      "201         -1                95        volvo       gas      turbo   \n",
      "202         -1                95        volvo       gas        std   \n",
      "203         -1                95        volvo    diesel      turbo   \n",
      "204         -1                95        volvo       gas      turbo   \n",
      "\n",
      "    num-of-doors   body-style drive-wheels engine-location  wheel-base  ...  \\\n",
      "0            two  convertible          rwd           front        88.6  ...   \n",
      "1            two  convertible          rwd           front        88.6  ...   \n",
      "2            two    hatchback          rwd           front        94.5  ...   \n",
      "3           four        sedan          fwd           front        99.8  ...   \n",
      "4           four        sedan          4wd           front        99.4  ...   \n",
      "..           ...          ...          ...             ...         ...  ...   \n",
      "200         four        sedan          rwd           front       109.1  ...   \n",
      "201         four        sedan          rwd           front       109.1  ...   \n",
      "202         four        sedan          rwd           front       109.1  ...   \n",
      "203         four        sedan          rwd           front       109.1  ...   \n",
      "204         four        sedan          rwd           front       109.1  ...   \n",
      "\n",
      "     engine-size  fuel-system  bore  stroke compression-ratio horsepower  \\\n",
      "0            130         mpfi  3.47    2.68               9.0        111   \n",
      "1            130         mpfi  3.47    2.68               9.0        111   \n",
      "2            152         mpfi  2.68    3.47               9.0        154   \n",
      "3            109         mpfi  3.19     3.4              10.0        102   \n",
      "4            136         mpfi  3.19     3.4               8.0        115   \n",
      "..           ...          ...   ...     ...               ...        ...   \n",
      "200          141         mpfi  3.78    3.15               9.5        114   \n",
      "201          141         mpfi  3.78    3.15               8.7        160   \n",
      "202          173         mpfi  3.58    2.87               8.8        134   \n",
      "203          145          idi  3.01     3.4              23.0        106   \n",
      "204          141         mpfi  3.78    3.15               9.5        114   \n",
      "\n",
      "     peak-rpm city-mpg highway-mpg  price  \n",
      "0        5000       21          27  13495  \n",
      "1        5000       21          27  16500  \n",
      "2        5000       19          26  16500  \n",
      "3        5500       24          30  13950  \n",
      "4        5500       18          22  17450  \n",
      "..        ...      ...         ...    ...  \n",
      "200      5400       23          28  16845  \n",
      "201      5300       19          25  19045  \n",
      "202      5500       18          23  21485  \n",
      "203      4800       26          27  22470  \n",
      "204      5400       19          25  22625  \n",
      "\n",
      "[205 rows x 26 columns]\n"
     ]
    }
   ],
   "source": [
    "print(df) #junk values below with \"?\""
   ]
  },
  {
   "cell_type": "code",
   "execution_count": 6,
   "metadata": {},
   "outputs": [
    {
     "data": {
      "text/plain": [
       "(205, 26)"
      ]
     },
     "execution_count": 6,
     "metadata": {},
     "output_type": "execute_result"
    }
   ],
   "source": [
    "clean_df = autoclean(df) #replace null values with mean and median;\n",
    "#shape below stays the same as above\n",
    "\n",
    "clean_df.shape"
   ]
  },
  {
   "cell_type": "code",
   "execution_count": 7,
   "metadata": {},
   "outputs": [
    {
     "name": "stdout",
     "output_type": "stream",
     "text": [
      "     symboling  normalized-losses  make  fuel-type  aspiration  num-of-doors  \\\n",
      "0            3                 51     0          1           0             2   \n",
      "1            3                 51     0          1           0             2   \n",
      "2            1                 51     0          1           0             2   \n",
      "3            2                 27     1          1           0             1   \n",
      "4            2                 27     1          1           0             1   \n",
      "..         ...                ...   ...        ...         ...           ...   \n",
      "200         -1                 49    21          1           0             1   \n",
      "201         -1                 49    21          1           1             1   \n",
      "202         -1                 49    21          1           0             1   \n",
      "203         -1                 49    21          0           1             1   \n",
      "204         -1                 49    21          1           1             1   \n",
      "\n",
      "     body-style  drive-wheels  engine-location  wheel-base  ...  engine-size  \\\n",
      "0             0             2                0        88.6  ...          130   \n",
      "1             0             2                0        88.6  ...          130   \n",
      "2             2             2                0        94.5  ...          152   \n",
      "3             3             1                0        99.8  ...          109   \n",
      "4             3             0                0        99.4  ...          136   \n",
      "..          ...           ...              ...         ...  ...          ...   \n",
      "200           3             2                0       109.1  ...          141   \n",
      "201           3             2                0       109.1  ...          141   \n",
      "202           3             2                0       109.1  ...          173   \n",
      "203           3             2                0       109.1  ...          145   \n",
      "204           3             2                0       109.1  ...          141   \n",
      "\n",
      "     fuel-system  bore  stroke  compression-ratio  horsepower  peak-rpm  \\\n",
      "0              5    23       4                9.0           5        10   \n",
      "1              5    23       4                9.0           5        10   \n",
      "2              5     1      27                9.0          20        10   \n",
      "3              5    13      24               10.0           2        16   \n",
      "4              5    13      24                8.0           8        16   \n",
      "..           ...   ...     ...                ...         ...       ...   \n",
      "200            5    35      15                9.5           7        15   \n",
      "201            5    35      15                8.7          23        14   \n",
      "202            5    26       7                8.8          13        16   \n",
      "203            3     6      24               23.0           3         8   \n",
      "204            5    35      15                9.5           7        15   \n",
      "\n",
      "     city-mpg  highway-mpg  price  \n",
      "0          21           27     31  \n",
      "1          21           27     50  \n",
      "2          19           26     50  \n",
      "3          24           30     36  \n",
      "4          18           22     61  \n",
      "..        ...          ...    ...  \n",
      "200        23           28     56  \n",
      "201        19           25     73  \n",
      "202        18           23     77  \n",
      "203        26           27     79  \n",
      "204        19           25     80  \n",
      "\n",
      "[205 rows x 26 columns]\n"
     ]
    }
   ],
   "source": [
    "print(clean_df)"
   ]
  },
  {
   "cell_type": "code",
   "execution_count": null,
   "metadata": {},
   "outputs": [],
   "source": []
  }
 ],
 "metadata": {
  "kernelspec": {
   "display_name": "Python 3",
   "language": "python",
   "name": "python3"
  },
  "language_info": {
   "codemirror_mode": {
    "name": "ipython",
    "version": 3
   },
   "file_extension": ".py",
   "mimetype": "text/x-python",
   "name": "python",
   "nbconvert_exporter": "python",
   "pygments_lexer": "ipython3",
   "version": "3.7.4"
  }
 },
 "nbformat": 4,
 "nbformat_minor": 2
}
